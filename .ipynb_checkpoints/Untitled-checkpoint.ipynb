{
 "cells": [
  {
   "cell_type": "code",
   "execution_count": 4,
   "metadata": {},
   "outputs": [],
   "source": [
    "#pip install dash"
   ]
  },
  {
   "cell_type": "code",
   "execution_count": 3,
   "metadata": {},
   "outputs": [
    {
     "name": "stdout",
     "output_type": "stream",
     "text": [
      "Requirement already satisfied: plotly in c:\\users\\rakes\\anaconda3\\lib\\site-packages (4.14.1)\n",
      "Requirement already satisfied: six in c:\\users\\rakes\\anaconda3\\lib\\site-packages (from plotly) (1.14.0)\n",
      "Requirement already satisfied: retrying>=1.3.3 in c:\\users\\rakes\\anaconda3\\lib\\site-packages (from plotly) (1.3.3)\n",
      "Note: you may need to restart the kernel to use updated packages.\n"
     ]
    },
    {
     "name": "stderr",
     "output_type": "stream",
     "text": [
      "WARNING: You are using pip version 20.2.3; however, version 20.3.3 is available.\n",
      "You should consider upgrading via the 'C:\\Users\\rakes\\anaconda3\\python.exe -m pip install --upgrade pip' command.\n"
     ]
    }
   ],
   "source": [
    "#pip install plotly"
   ]
  },
  {
   "cell_type": "code",
   "execution_count": 4,
   "metadata": {},
   "outputs": [
    {
     "name": "stdout",
     "output_type": "stream",
     "text": [
      "Dash is running on http://127.0.0.1:4020/\n",
      "\n",
      "Dash is running on http://127.0.0.1:4020/\n",
      "\n",
      "Dash is running on http://127.0.0.1:4020/\n",
      "\n",
      "Dash is running on http://127.0.0.1:4020/\n",
      "\n",
      " * Serving Flask app \"__main__\" (lazy loading)\n",
      " * Environment: production\n",
      "   WARNING: This is a development server. Do not use it in a production deployment.\n",
      "   Use a production WSGI server instead.\n",
      " * Debug mode: off\n"
     ]
    }
   ],
   "source": [
    "import dash\n",
    "import dash_core_components as dcc\n",
    "import dash_html_components as html\n",
    "from dash.dependencies import Input, Output\n",
    "\n",
    "external_stylesheets = ['https://codepen.io/chriddyp/pen/bWLwgP.css']\n",
    "\n",
    "app = dash.Dash(__name__, external_stylesheets=external_stylesheets)\n",
    "\n",
    "app.layout = html.Div([\n",
    "    html.H6(\"Change the value in the text box to see callbacks in action!\"),\n",
    "    html.Div([\"Input: \",\n",
    "              dcc.Input(id='my-input', value='initial value', type='text')]),\n",
    "    html.Br(),\n",
    "    html.Div(id='my-output'),\n",
    "\n",
    "])\n",
    "\n",
    "\n",
    "@app.callback(\n",
    "    Output(component_id='my-output', component_property='children'),\n",
    "    \n",
    "    Input(component_id='my-input', component_property='value')\n",
    ")\n",
    "def update_output_div(input_value):\n",
    "    return 'Output: {}'.format(input_value)\n",
    "\n",
    "\n",
    "if __name__ == '__main__':\n",
    "    app.run_server(port = 4020)"
   ]
  },
  {
   "cell_type": "code",
   "execution_count": 2,
   "metadata": {},
   "outputs": [],
   "source": [
    "# call back example data with slider "
   ]
  },
  {
   "cell_type": "code",
   "execution_count": 9,
   "metadata": {},
   "outputs": [],
   "source": [
    "import dash \n",
    "import dash_core_components as dcc\n",
    "import dash_html_components as html\n",
    "import plotly.express as px\n",
    "from dash.dependencies import Input, Output, State\n"
   ]
  },
  {
   "cell_type": "code",
   "execution_count": null,
   "metadata": {},
   "outputs": [],
   "source": []
  },
  {
   "cell_type": "code",
   "execution_count": 10,
   "metadata": {},
   "outputs": [],
   "source": [
    "import pandas as pd\n",
    "\n",
    "df = pd.read_csv('https://raw.githubusercontent.com/plotly/datasets/master/gapminderDataFiveYear.csv')\n",
    "\n",
    "external_stylesheets = ['https://codepen.io/chriddyp/pen/bWLwgP.css']\n",
    "\n",
    "app = dash.Dash(__name__, external_stylesheets=external_stylesheets)\n"
   ]
  },
  {
   "cell_type": "code",
   "execution_count": 11,
   "metadata": {},
   "outputs": [
    {
     "data": {
      "text/plain": [
       "Index(['country', 'year', 'pop', 'continent', 'lifeExp', 'gdpPercap'], dtype='object')"
      ]
     },
     "execution_count": 11,
     "metadata": {},
     "output_type": "execute_result"
    }
   ],
   "source": [
    "df.columns"
   ]
  },
  {
   "cell_type": "code",
   "execution_count": 17,
   "metadata": {},
   "outputs": [
    {
     "name": "stdout",
     "output_type": "stream",
     "text": [
      "Dash is running on http://127.0.0.1:4070/\n",
      "\n",
      "Dash is running on http://127.0.0.1:4070/\n",
      "\n",
      " * Serving Flask app \"__main__\" (lazy loading)\n",
      " * Environment: production\n",
      "   WARNING: This is a development server. Do not use it in a production deployment.\n",
      "   Use a production WSGI server instead.\n",
      " * Debug mode: off\n"
     ]
    },
    {
     "name": "stderr",
     "output_type": "stream",
     "text": [
      " * Running on http://127.0.0.1:4070/ (Press CTRL+C to quit)\n",
      "127.0.0.1 - - [11/Jan/2021 16:11:30] \"\u001b[37mGET / HTTP/1.1\u001b[0m\" 200 -\n",
      "127.0.0.1 - - [11/Jan/2021 16:11:30] \"\u001b[37mGET /_dash-component-suites/dash_renderer/react@16.v1_8_3m1610116146.14.0.min.js HTTP/1.1\u001b[0m\" 200 -\n",
      "127.0.0.1 - - [11/Jan/2021 16:11:30] \"\u001b[37mGET /_dash-component-suites/dash_renderer/prop-types@15.v1_8_3m1610116146.7.2.min.js HTTP/1.1\u001b[0m\" 200 -\n",
      "127.0.0.1 - - [11/Jan/2021 16:11:30] \"\u001b[37mGET /_dash-component-suites/dash_renderer/polyfill@7.v1_8_3m1610116146.8.7.min.js HTTP/1.1\u001b[0m\" 200 -\n",
      "127.0.0.1 - - [11/Jan/2021 16:11:30] \"\u001b[37mGET /_dash-component-suites/dash_renderer/react-dom@16.v1_8_3m1610116146.14.0.min.js HTTP/1.1\u001b[0m\" 200 -\n",
      "127.0.0.1 - - [11/Jan/2021 16:11:30] \"\u001b[37mGET /_dash-component-suites/dash_core_components/dash_core_components-shared.v1_14_1m1610116146.js HTTP/1.1\u001b[0m\" 200 -\n",
      "127.0.0.1 - - [11/Jan/2021 16:11:30] \"\u001b[37mGET /_dash-component-suites/dash_html_components/dash_html_components.v1_1_1m1610116147.min.js HTTP/1.1\u001b[0m\" 200 -\n",
      "127.0.0.1 - - [11/Jan/2021 16:11:30] \"\u001b[37mGET /_dash-component-suites/dash_core_components/dash_core_components.v1_14_1m1610116146.min.js HTTP/1.1\u001b[0m\" 200 -\n",
      "127.0.0.1 - - [11/Jan/2021 16:11:30] \"\u001b[37mGET /_dash-component-suites/dash_renderer/dash_renderer.v1_8_3m1610116146.min.js HTTP/1.1\u001b[0m\" 200 -\n",
      "127.0.0.1 - - [11/Jan/2021 16:11:31] \"\u001b[37mGET /_dash-layout HTTP/1.1\u001b[0m\" 200 -\n",
      "127.0.0.1 - - [11/Jan/2021 16:11:31] \"\u001b[37mGET /_dash-dependencies HTTP/1.1\u001b[0m\" 200 -\n",
      "127.0.0.1 - - [11/Jan/2021 16:11:31] \"\u001b[37mGET /_favicon.ico?v=1.18.1 HTTP/1.1\u001b[0m\" 200 -\n",
      "127.0.0.1 - - [11/Jan/2021 16:11:31] \"\u001b[37mGET /_dash-component-suites/dash_core_components/async-graph.v1_14_1m1607534654.js HTTP/1.1\u001b[0m\" 200 -\n",
      "127.0.0.1 - - [11/Jan/2021 16:11:31] \"\u001b[37mGET /_dash-component-suites/dash_core_components/async-slider.v1_14_1m1607534654.js HTTP/1.1\u001b[0m\" 200 -\n",
      "127.0.0.1 - - [11/Jan/2021 16:11:31] \"\u001b[37mGET /_dash-component-suites/dash_core_components/async-plotlyjs.v1_14_1m1607534654.js HTTP/1.1\u001b[0m\" 200 -\n",
      "127.0.0.1 - - [11/Jan/2021 16:11:32] \"\u001b[37mPOST /_dash-update-component HTTP/1.1\u001b[0m\" 200 -\n",
      "127.0.0.1 - - [11/Jan/2021 16:11:48] \"\u001b[37mPOST /_dash-update-component HTTP/1.1\u001b[0m\" 200 -\n",
      "127.0.0.1 - - [11/Jan/2021 16:11:51] \"\u001b[37mPOST /_dash-update-component HTTP/1.1\u001b[0m\" 200 -\n",
      "127.0.0.1 - - [11/Jan/2021 16:11:53] \"\u001b[37mPOST /_dash-update-component HTTP/1.1\u001b[0m\" 200 -\n",
      "127.0.0.1 - - [11/Jan/2021 16:11:55] \"\u001b[37mPOST /_dash-update-component HTTP/1.1\u001b[0m\" 200 -\n",
      "127.0.0.1 - - [11/Jan/2021 16:11:57] \"\u001b[37mPOST /_dash-update-component HTTP/1.1\u001b[0m\" 200 -\n",
      "127.0.0.1 - - [11/Jan/2021 16:13:08] \"\u001b[37mPOST /_dash-update-component HTTP/1.1\u001b[0m\" 200 -\n",
      "127.0.0.1 - - [11/Jan/2021 16:13:20] \"\u001b[37mPOST /_dash-update-component HTTP/1.1\u001b[0m\" 200 -\n",
      "127.0.0.1 - - [11/Jan/2021 16:13:25] \"\u001b[37mPOST /_dash-update-component HTTP/1.1\u001b[0m\" 200 -\n"
     ]
    }
   ],
   "source": [
    "app.layout = html.Div([\n",
    "    dcc.Graph( id  = 'mygraph'),\n",
    "    dcc.Slider(\n",
    "        id = 'myslider',\n",
    "        min = df['year'].min(),\n",
    "        max = df['year'].max(),\n",
    "        step = None,\n",
    "        value = df['year'].min(),\n",
    "        marks = {str(i):str(i) for i in df['year'].unique()}\n",
    "        \n",
    "   )\n",
    "    \n",
    "])\n",
    "\n",
    "\n",
    "@app.callback(\n",
    "    \n",
    "Output(component_id = 'mygraph', component_property = 'figure'),\n",
    "\n",
    "Input(component_id= 'myslider', component_property= 'value')  \n",
    "    \n",
    ")\n",
    "\n",
    "def update_figure(s_years):\n",
    "    filtered_years = df[df.year == s_years]\n",
    "    \n",
    "    fig = px.scatter(filtered_years, x=\"gdpPercap\", y=\"lifeExp\",\n",
    "                     size=\"pop\", color=\"continent\", hover_name=\"country\",\n",
    "                     log_x=True, size_max=55)\n",
    "    \n",
    "    fig.update_layout(transition_duration = 500)\n",
    "    return fig\n",
    "\n",
    "if __name__=='__main__':\n",
    "    app.run_server(port=4070)\n",
    "    \n",
    "    "
   ]
  },
  {
   "cell_type": "code",
   "execution_count": 18,
   "metadata": {},
   "outputs": [],
   "source": [
    "\n",
    "\n",
    "# 3rd call back mutilple inputs \n",
    "\n",
    "\n"
   ]
  },
  {
   "cell_type": "code",
   "execution_count": 19,
   "metadata": {},
   "outputs": [],
   "source": [
    "import dash\n",
    "import dash_core_components as dcc\n",
    "import dash_html_components as html\n",
    "from dash.dependencies import Input, Output\n",
    "import plotly.express as px\n",
    "\n",
    "import pandas as pd\n",
    "\n",
    "external_stylesheets = ['https://codepen.io/chriddyp/pen/bWLwgP.css']\n",
    "\n",
    "app = dash.Dash(__name__, external_stylesheets=external_stylesheets)\n",
    "\n",
    "df = pd.read_csv('https://plotly.github.io/datasets/country_indicators.csv')\n",
    "\n",
    "available_indicators = df['Indicator Name'].unique()\n"
   ]
  },
  {
   "cell_type": "code",
   "execution_count": 23,
   "metadata": {},
   "outputs": [
    {
     "data": {
      "text/plain": [
       "Index(['Country Name', 'Indicator Name', 'Year', 'Value'], dtype='object')"
      ]
     },
     "execution_count": 23,
     "metadata": {},
     "output_type": "execute_result"
    }
   ],
   "source": [
    "df.columns"
   ]
  },
  {
   "cell_type": "code",
   "execution_count": null,
   "metadata": {},
   "outputs": [],
   "source": [
    "app.layout = html.Div([\n",
    "    \n",
    "    dcc.Dropdown(\n",
    "    id = 'fd1',\n",
    "        options = [{'label': i, 'value' : i } for i in available_indicators],\n",
    "        value = 'None'\n",
    "    ),\n",
    "    \n",
    "    dcc.RadioItems(\n",
    "    id = 'xaxis-type',\n",
    "        options = [{'label': i , 'value':i } for i in ['linear','log']],\n",
    "        value = 'linear',\n",
    "        labelStyle = {'display': 'inline-block'}\n",
    "        \n",
    "    ),    \n",
    "    \n",
    "    html.Div([\n",
    "        \n",
    "        dcc.Dropdown(\n",
    "    id = 'fd2',\n",
    "        options = [{'label': i, 'value' : i } for i in available_indicators],\n",
    "        value = 'None'\n",
    "    ),\n",
    "    \n",
    "    dcc.RadioItems(\n",
    "    id = 'yaxis-type',\n",
    "        options = [{'label': i , 'value':i } for i in ['linear','log']],\n",
    "        value = 'linear',\n",
    "        labelStyle = {'display': 'inline-block'}\n",
    "        \n",
    "    )\n",
    "    ]),\n",
    "    \n",
    "    dcc.Graph(id = 'mg1'),\n",
    "        dcc.Slider(\n",
    "        id = 'sl1',\n",
    "            min = df['Year'],\n",
    "            max = df['Year'],\n",
    "            marks = {str(i) : str (i) for i in df['Year'].unique()},\n",
    "            step = None\n",
    "            \n",
    "        )\n",
    "    \n",
    "    \n",
    "    \n",
    "])\n",
    "\n",
    "@app.callback(\n",
    "Output(component_id = 'mg1', component_property = 'figure' ),\n",
    "Input(component_id = 'fd1', component_property = 'value' ),\n",
    "    Input(component_id = 'xaxis-type', component_property = 'value' ),\n",
    "Input(component_id = 'fd2', component_property = 'value' ),\n",
    "    Input(component_id = 'yaxis-type', component_property = 'value' ),\n",
    "    Input(component_id = 'sl1', component_property = 'value' )   \n",
    ")\n",
    "\n",
    "\n",
    "def update_graph(xaxis_c, yaxis_c, xaxis_t,yaxis_t, years):\n",
    "    \n",
    "    dff = df[df['Year']==years]\n",
    "    \n",
    "    fig = px.scatter(x=dff[dff['Indicator Name'] == xaxis_column_name]['Value'],\n",
    "                     y=dff[dff['Indicator Name'] == yaxis_column_name]['Value'],\n",
    "                     hover_name=dff[dff['Indicator Name'] == yaxis_column_name]['Country Name'])\n",
    "    \n",
    "    \n",
    "    fig.update_layout(margin={'l': 40, 'b': 40, 't': 10, 'r': 0}, hovermode='closest')\n",
    "\n",
    "    fig.update_xaxes(title=xaxis_column_name,\n",
    "                     type='linear' if xaxis_type == 'Linear' else 'log')\n",
    "\n",
    "    fig.update_yaxes(title=yaxis_column_name,\n",
    "                     type='linear' if yaxis_type == 'Linear' else 'log')\n",
    "\n",
    "    return fig\n",
    "\n",
    "\n",
    "if __name__ == '__main__':\n",
    "    app.run_server(port = 4050)\n",
    "\n",
    "\n",
    "\n",
    "\n",
    "\n",
    "\n"
   ]
  },
  {
   "cell_type": "code",
   "execution_count": null,
   "metadata": {},
   "outputs": [],
   "source": []
  },
  {
   "cell_type": "code",
   "execution_count": null,
   "metadata": {},
   "outputs": [],
   "source": []
  },
  {
   "cell_type": "code",
   "execution_count": null,
   "metadata": {},
   "outputs": [],
   "source": []
  },
  {
   "cell_type": "code",
   "execution_count": null,
   "metadata": {},
   "outputs": [],
   "source": [
    "mydf = pd. read_csv('abt_eh10_2019_calib_bp_2018_hadc_amsterdam.csv')"
   ]
  },
  {
   "cell_type": "code",
   "execution_count": null,
   "metadata": {},
   "outputs": [],
   "source": [
    "mydf.head()"
   ]
  },
  {
   "cell_type": "code",
   "execution_count": null,
   "metadata": {},
   "outputs": [],
   "source": []
  },
  {
   "cell_type": "code",
   "execution_count": null,
   "metadata": {},
   "outputs": [],
   "source": [
    "import dash\n",
    "import dash_core_components as dcc\n",
    "import dash_html_components as html\n",
    "from dash.dependencies import Input, Output\n",
    "import plotly.express as px\n",
    "\n",
    "import pandas as pd\n",
    "\n",
    "external_stylesheets = ['https://codepen.io/chriddyp/pen/bWLwgP.css']\n",
    "\n",
    "app = dash.Dash(__name__, external_stylesheets=external_stylesheets)\n",
    "\n",
    "df = pd.read_csv('https://plotly.github.io/datasets/country_indicators.csv')\n",
    "\n",
    "available_indicators = df['Indicator Name'].unique()\n",
    "\n",
    "app.layout = html.Div([\n",
    "    html.Div([\n",
    "\n",
    "        html.Div([\n",
    "            dcc.Dropdown(\n",
    "                id='xaxis-column',\n",
    "                options=[{'label': i, 'value': i} for i in available_indicators],\n",
    "                value='Fertility rate, total (births per woman)'\n",
    "            ),\n",
    "            dcc.RadioItems(\n",
    "                id='xaxis-type',\n",
    "                options=[{'label': i, 'value': i} for i in ['Linear', 'Log']],\n",
    "                value='Linear',\n",
    "                labelStyle={'display': 'inline-block'}\n",
    "            )\n",
    "        ],\n",
    "        style={'width': '48%', 'display': 'inline-block'}),\n",
    "\n",
    "        html.Div([\n",
    "            dcc.Dropdown(\n",
    "                id='yaxis-column',\n",
    "                options=[{'label': i, 'value': i} for i in available_indicators],\n",
    "                value='Life expectancy at birth, total (years)'\n",
    "            ),\n",
    "            dcc.RadioItems(\n",
    "                id='yaxis-type',\n",
    "                options=[{'label': i, 'value': i} for i in ['Linear', 'Log']],\n",
    "                value='Linear',\n",
    "                labelStyle={'display': 'inline-block'}\n",
    "            )\n",
    "        ],style={'width': '48%', 'float': 'right', 'display': 'inline-block'})\n",
    "    ]),\n",
    "\n",
    "    dcc.Graph(id='indicator-graphic'),\n",
    "\n",
    "    dcc.Slider(\n",
    "        id='year--slider',\n",
    "        min=df['Year'].min(),\n",
    "        max=df['Year'].max(),\n",
    "        value=df['Year'].max(),\n",
    "        marks={str(year): str(year) for year in df['Year'].unique()},\n",
    "        step=None\n",
    "    )\n",
    "])\n",
    "\n",
    "@app.callback(\n",
    "    Output('indicator-graphic', 'figure'),\n",
    "    Input('xaxis-column', 'value'),\n",
    "    Input('yaxis-column', 'value'),\n",
    "    Input('xaxis-type', 'value'),\n",
    "    Input('yaxis-type', 'value'),\n",
    "    Input('year--slider', 'value'))\n",
    "def update_graph(xaxis_column_name, yaxis_column_name,\n",
    "                 xaxis_type, yaxis_type,\n",
    "                 year_value):\n",
    "    dff = df[df['Year'] == year_value]\n",
    "\n",
    "    fig = px.scatter(x=dff[dff['Indicator Name'] == xaxis_column_name]['Value'],\n",
    "                     y=dff[dff['Indicator Name'] == yaxis_column_name]['Value'],\n",
    "                     hover_name=dff[dff['Indicator Name'] == yaxis_column_name]['Country Name'])\n",
    "\n",
    "    fig.update_layout(margin={'l': 40, 'b': 40, 't': 10, 'r': 0}, hovermode='closest')\n",
    "\n",
    "    fig.update_xaxes(title=xaxis_column_name,\n",
    "                     type='linear' if xaxis_type == 'Linear' else 'log')\n",
    "\n",
    "    fig.update_yaxes(title=yaxis_column_name,\n",
    "                     type='linear' if yaxis_type == 'Linear' else 'log')\n",
    "\n",
    "    return fig\n",
    "\n",
    "\n",
    "if __name__ == '__main__':\n",
    "#    app.run_server(port=4060)"
   ]
  },
  {
   "cell_type": "code",
   "execution_count": null,
   "metadata": {},
   "outputs": [],
   "source": []
  }
 ],
 "metadata": {
  "kernelspec": {
   "display_name": "Python 3",
   "language": "python",
   "name": "python3"
  },
  "language_info": {
   "codemirror_mode": {
    "name": "ipython",
    "version": 3
   },
   "file_extension": ".py",
   "mimetype": "text/x-python",
   "name": "python",
   "nbconvert_exporter": "python",
   "pygments_lexer": "ipython3",
   "version": "3.7.6"
  }
 },
 "nbformat": 4,
 "nbformat_minor": 4
}
